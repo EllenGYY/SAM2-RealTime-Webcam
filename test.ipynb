{
 "cells": [
  {
   "cell_type": "code",
   "execution_count": 1,
   "metadata": {},
   "outputs": [
    {
     "data": {
      "application/vnd.jupyter.widget-view+json": {
       "model_id": "a53c5fcd3e3045f787f75b431c2f9608",
       "version_major": 2,
       "version_minor": 0
      },
      "text/plain": [
       "Image(value=b'')"
      ]
     },
     "metadata": {},
     "output_type": "display_data"
    },
    {
     "data": {
      "application/vnd.jupyter.widget-view+json": {
       "model_id": "e9e3129f81eb45f2a50fc4ccd9f6a306",
       "version_major": 2,
       "version_minor": 0
      },
      "text/plain": [
       "Button(description='Start Capture', style=ButtonStyle())"
      ]
     },
     "metadata": {},
     "output_type": "display_data"
    },
    {
     "data": {
      "application/vnd.jupyter.widget-view+json": {
       "model_id": "536d4e16b6aa4314a56ef811ac961379",
       "version_major": 2,
       "version_minor": 0
      },
      "text/plain": [
       "Button(description='Stop Capture', style=ButtonStyle())"
      ]
     },
     "metadata": {},
     "output_type": "display_data"
    }
   ],
   "source": [
    "import cv2\n",
    "from IPython.display import display, Image\n",
    "import ipywidgets as widgets\n",
    "import threading\n",
    "import time\n",
    "\n",
    "class WebcamCapture:\n",
    "    def __init__(self):\n",
    "        self.cap = cv2.VideoCapture(0)\n",
    "        self.cap.set(cv2.CAP_PROP_FOURCC, cv2.VideoWriter_fourcc('M', 'J', 'P', 'G'))\n",
    "        self.output = widgets.Image()\n",
    "        display(self.output)\n",
    "        self.is_capturing = False\n",
    "\n",
    "    def capture(self):\n",
    "        while self.is_capturing:\n",
    "            ret, frame = self.cap.read()\n",
    "            if ret:\n",
    "                _, jpeg = cv2.imencode('.jpg', frame)\n",
    "                self.output.value = jpeg.tobytes()\n",
    "            time.sleep(0.1)\n",
    "\n",
    "    def start(self):\n",
    "        self.is_capturing = True\n",
    "        self.thread = threading.Thread(target=self.capture)\n",
    "        self.thread.start()\n",
    "\n",
    "    def stop(self):\n",
    "        self.is_capturing = False\n",
    "        self.thread.join()\n",
    "        self.cap.release()\n",
    "\n",
    "# Create and display buttons\n",
    "webcam = WebcamCapture()\n",
    "start_button = widgets.Button(description=\"Start Capture\")\n",
    "stop_button = widgets.Button(description=\"Stop Capture\")\n",
    "\n",
    "start_button.on_click(lambda _: webcam.start())\n",
    "stop_button.on_click(lambda _: webcam.stop())\n",
    "\n",
    "display(start_button, stop_button)\n"
   ]
  }
 ],
 "metadata": {
  "kernelspec": {
   "display_name": "SAM",
   "language": "python",
   "name": "python3"
  },
  "language_info": {
   "codemirror_mode": {
    "name": "ipython",
    "version": 3
   },
   "file_extension": ".py",
   "mimetype": "text/x-python",
   "name": "python",
   "nbconvert_exporter": "python",
   "pygments_lexer": "ipython3",
   "version": "3.12.5"
  }
 },
 "nbformat": 4,
 "nbformat_minor": 2
}
